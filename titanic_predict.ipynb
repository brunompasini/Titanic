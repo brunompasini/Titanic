{
  "nbformat": 4,
  "nbformat_minor": 0,
  "metadata": {
    "kernelspec": {
      "display_name": "Python 3",
      "language": "python",
      "name": "python3"
    },
    "language_info": {
      "codemirror_mode": {
        "name": "ipython",
        "version": 3
      },
      "file_extension": ".py",
      "mimetype": "text/x-python",
      "name": "python",
      "nbconvert_exporter": "python",
      "pygments_lexer": "ipython3",
      "version": "3.7.4"
    },
    "colab": {
      "name": "titanic_predict.ipynb",
      "provenance": []
    },
    "accelerator": "GPU"
  },
  "cells": [
    {
      "cell_type": "markdown",
      "metadata": {
        "id": "bS3u-5qDncg7",
        "colab_type": "text"
      },
      "source": [
        "#### Notebook by Bruno Pasini\n",
        "\n",
        "github.com/brunompasini"
      ]
    },
    {
      "cell_type": "markdown",
      "metadata": {
        "id": "mJDA6wMhncg9",
        "colab_type": "text"
      },
      "source": [
        "## Imports"
      ]
    },
    {
      "cell_type": "code",
      "metadata": {
        "id": "gG66sa6Jncg-",
        "colab_type": "code",
        "colab": {}
      },
      "source": [
        "import pandas as pd\n",
        "import numpy as np\n",
        "import matplotlib.pyplot as plt\n",
        "%matplotlib inline"
      ],
      "execution_count": 1,
      "outputs": []
    },
    {
      "cell_type": "markdown",
      "metadata": {
        "id": "-C11WMIhnchG",
        "colab_type": "text"
      },
      "source": [
        "## Reading Data"
      ]
    },
    {
      "cell_type": "code",
      "metadata": {
        "id": "ticqiy1vnchI",
        "colab_type": "code",
        "colab": {}
      },
      "source": [
        "train = pd.read_csv(\"train.csv\")\n",
        "test = pd.read_csv(\"test.csv\")"
      ],
      "execution_count": 2,
      "outputs": []
    },
    {
      "cell_type": "markdown",
      "metadata": {
        "id": "eTfk9q3hnchM",
        "colab_type": "text"
      },
      "source": [
        "## How the data looks like"
      ]
    },
    {
      "cell_type": "markdown",
      "metadata": {
        "id": "sOXXVLRynchN",
        "colab_type": "text"
      },
      "source": [
        "#### Some Definitions\n",
        "Survived: 0 = No; 1 = Yes  \n",
        "SibSp: Number of siblings and spouses aboard  \n",
        "ParCh: Number of parents and children aboard  \n",
        "Embarked: C = Cherbourg; Q = Queenstown; S = Southampton  "
      ]
    },
    {
      "cell_type": "code",
      "metadata": {
        "id": "9lOkKy20nchO",
        "colab_type": "code",
        "colab": {
          "base_uri": "https://localhost:8080/",
          "height": 255
        },
        "outputId": "f98e0a22-9d60-4c28-be34-0654b5270881"
      },
      "source": [
        "train.head()"
      ],
      "execution_count": 3,
      "outputs": [
        {
          "output_type": "execute_result",
          "data": {
            "text/html": [
              "<div>\n",
              "<style scoped>\n",
              "    .dataframe tbody tr th:only-of-type {\n",
              "        vertical-align: middle;\n",
              "    }\n",
              "\n",
              "    .dataframe tbody tr th {\n",
              "        vertical-align: top;\n",
              "    }\n",
              "\n",
              "    .dataframe thead th {\n",
              "        text-align: right;\n",
              "    }\n",
              "</style>\n",
              "<table border=\"1\" class=\"dataframe\">\n",
              "  <thead>\n",
              "    <tr style=\"text-align: right;\">\n",
              "      <th></th>\n",
              "      <th>PassengerId</th>\n",
              "      <th>Survived</th>\n",
              "      <th>Pclass</th>\n",
              "      <th>Name</th>\n",
              "      <th>Sex</th>\n",
              "      <th>Age</th>\n",
              "      <th>SibSp</th>\n",
              "      <th>Parch</th>\n",
              "      <th>Ticket</th>\n",
              "      <th>Fare</th>\n",
              "      <th>Cabin</th>\n",
              "      <th>Embarked</th>\n",
              "    </tr>\n",
              "  </thead>\n",
              "  <tbody>\n",
              "    <tr>\n",
              "      <th>0</th>\n",
              "      <td>1</td>\n",
              "      <td>0</td>\n",
              "      <td>3</td>\n",
              "      <td>Braund, Mr. Owen Harris</td>\n",
              "      <td>male</td>\n",
              "      <td>22.0</td>\n",
              "      <td>1</td>\n",
              "      <td>0</td>\n",
              "      <td>A/5 21171</td>\n",
              "      <td>7.2500</td>\n",
              "      <td>NaN</td>\n",
              "      <td>S</td>\n",
              "    </tr>\n",
              "    <tr>\n",
              "      <th>1</th>\n",
              "      <td>2</td>\n",
              "      <td>1</td>\n",
              "      <td>1</td>\n",
              "      <td>Cumings, Mrs. John Bradley (Florence Briggs Th...</td>\n",
              "      <td>female</td>\n",
              "      <td>38.0</td>\n",
              "      <td>1</td>\n",
              "      <td>0</td>\n",
              "      <td>PC 17599</td>\n",
              "      <td>71.2833</td>\n",
              "      <td>C85</td>\n",
              "      <td>C</td>\n",
              "    </tr>\n",
              "    <tr>\n",
              "      <th>2</th>\n",
              "      <td>3</td>\n",
              "      <td>1</td>\n",
              "      <td>3</td>\n",
              "      <td>Heikkinen, Miss. Laina</td>\n",
              "      <td>female</td>\n",
              "      <td>26.0</td>\n",
              "      <td>0</td>\n",
              "      <td>0</td>\n",
              "      <td>STON/O2. 3101282</td>\n",
              "      <td>7.9250</td>\n",
              "      <td>NaN</td>\n",
              "      <td>S</td>\n",
              "    </tr>\n",
              "    <tr>\n",
              "      <th>3</th>\n",
              "      <td>4</td>\n",
              "      <td>1</td>\n",
              "      <td>1</td>\n",
              "      <td>Futrelle, Mrs. Jacques Heath (Lily May Peel)</td>\n",
              "      <td>female</td>\n",
              "      <td>35.0</td>\n",
              "      <td>1</td>\n",
              "      <td>0</td>\n",
              "      <td>113803</td>\n",
              "      <td>53.1000</td>\n",
              "      <td>C123</td>\n",
              "      <td>S</td>\n",
              "    </tr>\n",
              "    <tr>\n",
              "      <th>4</th>\n",
              "      <td>5</td>\n",
              "      <td>0</td>\n",
              "      <td>3</td>\n",
              "      <td>Allen, Mr. William Henry</td>\n",
              "      <td>male</td>\n",
              "      <td>35.0</td>\n",
              "      <td>0</td>\n",
              "      <td>0</td>\n",
              "      <td>373450</td>\n",
              "      <td>8.0500</td>\n",
              "      <td>NaN</td>\n",
              "      <td>S</td>\n",
              "    </tr>\n",
              "  </tbody>\n",
              "</table>\n",
              "</div>"
            ],
            "text/plain": [
              "   PassengerId  Survived  Pclass  ...     Fare Cabin  Embarked\n",
              "0            1         0       3  ...   7.2500   NaN         S\n",
              "1            2         1       1  ...  71.2833   C85         C\n",
              "2            3         1       3  ...   7.9250   NaN         S\n",
              "3            4         1       1  ...  53.1000  C123         S\n",
              "4            5         0       3  ...   8.0500   NaN         S\n",
              "\n",
              "[5 rows x 12 columns]"
            ]
          },
          "metadata": {
            "tags": []
          },
          "execution_count": 3
        }
      ]
    },
    {
      "cell_type": "code",
      "metadata": {
        "id": "-KYNieLAnchU",
        "colab_type": "code",
        "colab": {
          "base_uri": "https://localhost:8080/",
          "height": 204
        },
        "outputId": "4a6d92d1-f149-4bff-db8f-d27f5bef5899"
      },
      "source": [
        "test.head()"
      ],
      "execution_count": 4,
      "outputs": [
        {
          "output_type": "execute_result",
          "data": {
            "text/html": [
              "<div>\n",
              "<style scoped>\n",
              "    .dataframe tbody tr th:only-of-type {\n",
              "        vertical-align: middle;\n",
              "    }\n",
              "\n",
              "    .dataframe tbody tr th {\n",
              "        vertical-align: top;\n",
              "    }\n",
              "\n",
              "    .dataframe thead th {\n",
              "        text-align: right;\n",
              "    }\n",
              "</style>\n",
              "<table border=\"1\" class=\"dataframe\">\n",
              "  <thead>\n",
              "    <tr style=\"text-align: right;\">\n",
              "      <th></th>\n",
              "      <th>PassengerId</th>\n",
              "      <th>Pclass</th>\n",
              "      <th>Name</th>\n",
              "      <th>Sex</th>\n",
              "      <th>Age</th>\n",
              "      <th>SibSp</th>\n",
              "      <th>Parch</th>\n",
              "      <th>Ticket</th>\n",
              "      <th>Fare</th>\n",
              "      <th>Cabin</th>\n",
              "      <th>Embarked</th>\n",
              "    </tr>\n",
              "  </thead>\n",
              "  <tbody>\n",
              "    <tr>\n",
              "      <th>0</th>\n",
              "      <td>892</td>\n",
              "      <td>3</td>\n",
              "      <td>Kelly, Mr. James</td>\n",
              "      <td>male</td>\n",
              "      <td>34.5</td>\n",
              "      <td>0</td>\n",
              "      <td>0</td>\n",
              "      <td>330911</td>\n",
              "      <td>7.8292</td>\n",
              "      <td>NaN</td>\n",
              "      <td>Q</td>\n",
              "    </tr>\n",
              "    <tr>\n",
              "      <th>1</th>\n",
              "      <td>893</td>\n",
              "      <td>3</td>\n",
              "      <td>Wilkes, Mrs. James (Ellen Needs)</td>\n",
              "      <td>female</td>\n",
              "      <td>47.0</td>\n",
              "      <td>1</td>\n",
              "      <td>0</td>\n",
              "      <td>363272</td>\n",
              "      <td>7.0000</td>\n",
              "      <td>NaN</td>\n",
              "      <td>S</td>\n",
              "    </tr>\n",
              "    <tr>\n",
              "      <th>2</th>\n",
              "      <td>894</td>\n",
              "      <td>2</td>\n",
              "      <td>Myles, Mr. Thomas Francis</td>\n",
              "      <td>male</td>\n",
              "      <td>62.0</td>\n",
              "      <td>0</td>\n",
              "      <td>0</td>\n",
              "      <td>240276</td>\n",
              "      <td>9.6875</td>\n",
              "      <td>NaN</td>\n",
              "      <td>Q</td>\n",
              "    </tr>\n",
              "    <tr>\n",
              "      <th>3</th>\n",
              "      <td>895</td>\n",
              "      <td>3</td>\n",
              "      <td>Wirz, Mr. Albert</td>\n",
              "      <td>male</td>\n",
              "      <td>27.0</td>\n",
              "      <td>0</td>\n",
              "      <td>0</td>\n",
              "      <td>315154</td>\n",
              "      <td>8.6625</td>\n",
              "      <td>NaN</td>\n",
              "      <td>S</td>\n",
              "    </tr>\n",
              "    <tr>\n",
              "      <th>4</th>\n",
              "      <td>896</td>\n",
              "      <td>3</td>\n",
              "      <td>Hirvonen, Mrs. Alexander (Helga E Lindqvist)</td>\n",
              "      <td>female</td>\n",
              "      <td>22.0</td>\n",
              "      <td>1</td>\n",
              "      <td>1</td>\n",
              "      <td>3101298</td>\n",
              "      <td>12.2875</td>\n",
              "      <td>NaN</td>\n",
              "      <td>S</td>\n",
              "    </tr>\n",
              "  </tbody>\n",
              "</table>\n",
              "</div>"
            ],
            "text/plain": [
              "   PassengerId  Pclass  ... Cabin Embarked\n",
              "0          892       3  ...   NaN        Q\n",
              "1          893       3  ...   NaN        S\n",
              "2          894       2  ...   NaN        Q\n",
              "3          895       3  ...   NaN        S\n",
              "4          896       3  ...   NaN        S\n",
              "\n",
              "[5 rows x 11 columns]"
            ]
          },
          "metadata": {
            "tags": []
          },
          "execution_count": 4
        }
      ]
    },
    {
      "cell_type": "code",
      "metadata": {
        "id": "FyOw5lt1ncha",
        "colab_type": "code",
        "colab": {}
      },
      "source": [
        "#print(train.info())\n",
        "#print(\"-\"*20 +\"//\"+\"-\"*20)\n",
        "#print(test.info())"
      ],
      "execution_count": 5,
      "outputs": []
    },
    {
      "cell_type": "markdown",
      "metadata": {
        "id": "THOSP6dZnchf",
        "colab_type": "text"
      },
      "source": [
        "##### Null values"
      ]
    },
    {
      "cell_type": "code",
      "metadata": {
        "id": "3Q9SzLzMnchg",
        "colab_type": "code",
        "colab": {
          "base_uri": "https://localhost:8080/",
          "height": 459
        },
        "outputId": "90ed5960-67e2-4fcb-e7d1-a6dd8be0a53f"
      },
      "source": [
        "print(train.isnull().sum())\n",
        "print(\"-\"*20 +\"//\"+\"-\"*20)\n",
        "print(test.isnull().sum())"
      ],
      "execution_count": 6,
      "outputs": [
        {
          "output_type": "stream",
          "text": [
            "PassengerId      0\n",
            "Survived         0\n",
            "Pclass           0\n",
            "Name             0\n",
            "Sex              0\n",
            "Age            177\n",
            "SibSp            0\n",
            "Parch            0\n",
            "Ticket           0\n",
            "Fare             0\n",
            "Cabin          687\n",
            "Embarked         2\n",
            "dtype: int64\n",
            "--------------------//--------------------\n",
            "PassengerId      0\n",
            "Pclass           0\n",
            "Name             0\n",
            "Sex              0\n",
            "Age             86\n",
            "SibSp            0\n",
            "Parch            0\n",
            "Ticket           0\n",
            "Fare             1\n",
            "Cabin          327\n",
            "Embarked         0\n",
            "dtype: int64\n"
          ],
          "name": "stdout"
        }
      ]
    },
    {
      "cell_type": "code",
      "metadata": {
        "id": "4MGT7V6Mnchm",
        "colab_type": "code",
        "colab": {}
      },
      "source": [
        "data = [train, test]"
      ],
      "execution_count": 7,
      "outputs": []
    },
    {
      "cell_type": "code",
      "metadata": {
        "id": "PfZFTg3bnchw",
        "colab_type": "code",
        "colab": {}
      },
      "source": [
        "for el in data:\n",
        "    el['Age'].fillna(el['Age'].median(), inplace=True)\n",
        "    el['Fare'].fillna(el['Fare'].median(), inplace=True)\n",
        "    el['Embarked'].fillna(el['Embarked'].mode()[0], inplace=True)\n",
        "    el.drop(['Cabin', 'Ticket', 'Name', 'SibSp',\t'Parch'], axis=1, inplace=True)"
      ],
      "execution_count": 8,
      "outputs": []
    },
    {
      "cell_type": "code",
      "metadata": {
        "id": "rTaqz0iwnch4",
        "colab_type": "code",
        "colab": {
          "base_uri": "https://localhost:8080/",
          "height": 204
        },
        "outputId": "0ec51d6f-7957-4639-f9b3-977a2d2ea937"
      },
      "source": [
        "# Droping Cabin and Ticket, both non-numerical values since Fare and Class covers the Economic Status\n",
        "train.head()"
      ],
      "execution_count": 9,
      "outputs": [
        {
          "output_type": "execute_result",
          "data": {
            "text/html": [
              "<div>\n",
              "<style scoped>\n",
              "    .dataframe tbody tr th:only-of-type {\n",
              "        vertical-align: middle;\n",
              "    }\n",
              "\n",
              "    .dataframe tbody tr th {\n",
              "        vertical-align: top;\n",
              "    }\n",
              "\n",
              "    .dataframe thead th {\n",
              "        text-align: right;\n",
              "    }\n",
              "</style>\n",
              "<table border=\"1\" class=\"dataframe\">\n",
              "  <thead>\n",
              "    <tr style=\"text-align: right;\">\n",
              "      <th></th>\n",
              "      <th>PassengerId</th>\n",
              "      <th>Survived</th>\n",
              "      <th>Pclass</th>\n",
              "      <th>Sex</th>\n",
              "      <th>Age</th>\n",
              "      <th>Fare</th>\n",
              "      <th>Embarked</th>\n",
              "    </tr>\n",
              "  </thead>\n",
              "  <tbody>\n",
              "    <tr>\n",
              "      <th>0</th>\n",
              "      <td>1</td>\n",
              "      <td>0</td>\n",
              "      <td>3</td>\n",
              "      <td>male</td>\n",
              "      <td>22.0</td>\n",
              "      <td>7.2500</td>\n",
              "      <td>S</td>\n",
              "    </tr>\n",
              "    <tr>\n",
              "      <th>1</th>\n",
              "      <td>2</td>\n",
              "      <td>1</td>\n",
              "      <td>1</td>\n",
              "      <td>female</td>\n",
              "      <td>38.0</td>\n",
              "      <td>71.2833</td>\n",
              "      <td>C</td>\n",
              "    </tr>\n",
              "    <tr>\n",
              "      <th>2</th>\n",
              "      <td>3</td>\n",
              "      <td>1</td>\n",
              "      <td>3</td>\n",
              "      <td>female</td>\n",
              "      <td>26.0</td>\n",
              "      <td>7.9250</td>\n",
              "      <td>S</td>\n",
              "    </tr>\n",
              "    <tr>\n",
              "      <th>3</th>\n",
              "      <td>4</td>\n",
              "      <td>1</td>\n",
              "      <td>1</td>\n",
              "      <td>female</td>\n",
              "      <td>35.0</td>\n",
              "      <td>53.1000</td>\n",
              "      <td>S</td>\n",
              "    </tr>\n",
              "    <tr>\n",
              "      <th>4</th>\n",
              "      <td>5</td>\n",
              "      <td>0</td>\n",
              "      <td>3</td>\n",
              "      <td>male</td>\n",
              "      <td>35.0</td>\n",
              "      <td>8.0500</td>\n",
              "      <td>S</td>\n",
              "    </tr>\n",
              "  </tbody>\n",
              "</table>\n",
              "</div>"
            ],
            "text/plain": [
              "   PassengerId  Survived  Pclass     Sex   Age     Fare Embarked\n",
              "0            1         0       3    male  22.0   7.2500        S\n",
              "1            2         1       1  female  38.0  71.2833        C\n",
              "2            3         1       3  female  26.0   7.9250        S\n",
              "3            4         1       1  female  35.0  53.1000        S\n",
              "4            5         0       3    male  35.0   8.0500        S"
            ]
          },
          "metadata": {
            "tags": []
          },
          "execution_count": 9
        }
      ]
    },
    {
      "cell_type": "markdown",
      "metadata": {
        "id": "yuyb0jdWnch9",
        "colab_type": "text"
      },
      "source": [
        "### Will be using a NN to predict"
      ]
    },
    {
      "cell_type": "code",
      "metadata": {
        "id": "QhxKqHkdnch9",
        "colab_type": "code",
        "colab": {}
      },
      "source": [
        "import tensorflow as tf\n",
        "from tensorflow import keras\n",
        "from keras.optimizers import Adam, RMSprop"
      ],
      "execution_count": 10,
      "outputs": []
    },
    {
      "cell_type": "markdown",
      "metadata": {
        "id": "ZAfm-Xhzu7_X",
        "colab_type": "text"
      },
      "source": [
        "#### Creating callbacks"
      ]
    },
    {
      "cell_type": "code",
      "metadata": {
        "id": "WfgtjAmYu6Np",
        "colab_type": "code",
        "colab": {}
      },
      "source": [
        "class myCallback(keras.callbacks.Callback):\n",
        "  def on_epoch_end(self,epock,logs={}):\n",
        "    if (logs.get('accuracy')>0.8):\n",
        "      print(\"\\nAccuracy is over 80%\")\n",
        "      self.model.stop_training = True\n",
        "\n",
        "callbacks = myCallback()"
      ],
      "execution_count": 11,
      "outputs": []
    },
    {
      "cell_type": "markdown",
      "metadata": {
        "id": "KedU5vnmvIJY",
        "colab_type": "text"
      },
      "source": [
        "#### NN"
      ]
    },
    {
      "cell_type": "code",
      "metadata": {
        "id": "dk2yCeivoteh",
        "colab_type": "code",
        "colab": {
          "base_uri": "https://localhost:8080/",
          "height": 204
        },
        "outputId": "74bf5033-dc3e-49c5-ed29-f03aa7615a5c"
      },
      "source": [
        "train = pd.get_dummies(train)\n",
        "test = pd.get_dummies(test)\n",
        "train.head()"
      ],
      "execution_count": 12,
      "outputs": [
        {
          "output_type": "execute_result",
          "data": {
            "text/html": [
              "<div>\n",
              "<style scoped>\n",
              "    .dataframe tbody tr th:only-of-type {\n",
              "        vertical-align: middle;\n",
              "    }\n",
              "\n",
              "    .dataframe tbody tr th {\n",
              "        vertical-align: top;\n",
              "    }\n",
              "\n",
              "    .dataframe thead th {\n",
              "        text-align: right;\n",
              "    }\n",
              "</style>\n",
              "<table border=\"1\" class=\"dataframe\">\n",
              "  <thead>\n",
              "    <tr style=\"text-align: right;\">\n",
              "      <th></th>\n",
              "      <th>PassengerId</th>\n",
              "      <th>Survived</th>\n",
              "      <th>Pclass</th>\n",
              "      <th>Age</th>\n",
              "      <th>Fare</th>\n",
              "      <th>Sex_female</th>\n",
              "      <th>Sex_male</th>\n",
              "      <th>Embarked_C</th>\n",
              "      <th>Embarked_Q</th>\n",
              "      <th>Embarked_S</th>\n",
              "    </tr>\n",
              "  </thead>\n",
              "  <tbody>\n",
              "    <tr>\n",
              "      <th>0</th>\n",
              "      <td>1</td>\n",
              "      <td>0</td>\n",
              "      <td>3</td>\n",
              "      <td>22.0</td>\n",
              "      <td>7.2500</td>\n",
              "      <td>0</td>\n",
              "      <td>1</td>\n",
              "      <td>0</td>\n",
              "      <td>0</td>\n",
              "      <td>1</td>\n",
              "    </tr>\n",
              "    <tr>\n",
              "      <th>1</th>\n",
              "      <td>2</td>\n",
              "      <td>1</td>\n",
              "      <td>1</td>\n",
              "      <td>38.0</td>\n",
              "      <td>71.2833</td>\n",
              "      <td>1</td>\n",
              "      <td>0</td>\n",
              "      <td>1</td>\n",
              "      <td>0</td>\n",
              "      <td>0</td>\n",
              "    </tr>\n",
              "    <tr>\n",
              "      <th>2</th>\n",
              "      <td>3</td>\n",
              "      <td>1</td>\n",
              "      <td>3</td>\n",
              "      <td>26.0</td>\n",
              "      <td>7.9250</td>\n",
              "      <td>1</td>\n",
              "      <td>0</td>\n",
              "      <td>0</td>\n",
              "      <td>0</td>\n",
              "      <td>1</td>\n",
              "    </tr>\n",
              "    <tr>\n",
              "      <th>3</th>\n",
              "      <td>4</td>\n",
              "      <td>1</td>\n",
              "      <td>1</td>\n",
              "      <td>35.0</td>\n",
              "      <td>53.1000</td>\n",
              "      <td>1</td>\n",
              "      <td>0</td>\n",
              "      <td>0</td>\n",
              "      <td>0</td>\n",
              "      <td>1</td>\n",
              "    </tr>\n",
              "    <tr>\n",
              "      <th>4</th>\n",
              "      <td>5</td>\n",
              "      <td>0</td>\n",
              "      <td>3</td>\n",
              "      <td>35.0</td>\n",
              "      <td>8.0500</td>\n",
              "      <td>0</td>\n",
              "      <td>1</td>\n",
              "      <td>0</td>\n",
              "      <td>0</td>\n",
              "      <td>1</td>\n",
              "    </tr>\n",
              "  </tbody>\n",
              "</table>\n",
              "</div>"
            ],
            "text/plain": [
              "   PassengerId  Survived  Pclass  ...  Embarked_C  Embarked_Q  Embarked_S\n",
              "0            1         0       3  ...           0           0           1\n",
              "1            2         1       1  ...           1           0           0\n",
              "2            3         1       3  ...           0           0           1\n",
              "3            4         1       1  ...           0           0           1\n",
              "4            5         0       3  ...           0           0           1\n",
              "\n",
              "[5 rows x 10 columns]"
            ]
          },
          "metadata": {
            "tags": []
          },
          "execution_count": 12
        }
      ]
    },
    {
      "cell_type": "code",
      "metadata": {
        "id": "aSzYF5u5siXS",
        "colab_type": "code",
        "colab": {
          "base_uri": "https://localhost:8080/",
          "height": 765
        },
        "outputId": "eecc09d8-cee6-41ef-a55e-52890e74afca"
      },
      "source": [
        "model = tf.keras.models.Sequential([\n",
        "  tf.keras.layers.InputLayer(input_shape=(9,)),\n",
        "  tf.keras.layers.Dense(4096, activation='relu'),\n",
        "  tf.keras.layers.Dropout(0.1),\n",
        "  tf.keras.layers.Dense(2048, activation='relu'),\n",
        "  tf.keras.layers.Dropout(0.1),\n",
        "  tf.keras.layers.Dense(1024, activation='relu'),\n",
        "  tf.keras.layers.Dropout(0.1),\n",
        "  tf.keras.layers.Dense(512, activation='relu'),\n",
        "  tf.keras.layers.Dropout(0.1),\n",
        "  tf.keras.layers.Dense(256, activation='relu'),\n",
        "  tf.keras.layers.Dropout(0.1),\n",
        "  tf.keras.layers.Dense(128, activation='relu'),\n",
        "  tf.keras.layers.Dropout(0.1),\n",
        "  tf.keras.layers.Dense(64, activation='relu'),\n",
        "  tf.keras.layers.Dropout(0.1),\n",
        "  tf.keras.layers.Dense(32, activation='relu'),\n",
        "  tf.keras.layers.Dropout(0.1),\n",
        "  tf.keras.layers.Dense(16, activation='relu'),\n",
        "  tf.keras.layers.Dense(1, activation='sigmoid')\n",
        "])\n",
        "model.compile(optimizer=RMSprop(lr=0.001), loss='binary_crossentropy', metrics=['accuracy'])\n",
        "model.summary()"
      ],
      "execution_count": 13,
      "outputs": [
        {
          "output_type": "stream",
          "text": [
            "Model: \"sequential\"\n",
            "_________________________________________________________________\n",
            "Layer (type)                 Output Shape              Param #   \n",
            "=================================================================\n",
            "dense (Dense)                (None, 4096)              40960     \n",
            "_________________________________________________________________\n",
            "dropout (Dropout)            (None, 4096)              0         \n",
            "_________________________________________________________________\n",
            "dense_1 (Dense)              (None, 2048)              8390656   \n",
            "_________________________________________________________________\n",
            "dropout_1 (Dropout)          (None, 2048)              0         \n",
            "_________________________________________________________________\n",
            "dense_2 (Dense)              (None, 1024)              2098176   \n",
            "_________________________________________________________________\n",
            "dropout_2 (Dropout)          (None, 1024)              0         \n",
            "_________________________________________________________________\n",
            "dense_3 (Dense)              (None, 512)               524800    \n",
            "_________________________________________________________________\n",
            "dropout_3 (Dropout)          (None, 512)               0         \n",
            "_________________________________________________________________\n",
            "dense_4 (Dense)              (None, 256)               131328    \n",
            "_________________________________________________________________\n",
            "dropout_4 (Dropout)          (None, 256)               0         \n",
            "_________________________________________________________________\n",
            "dense_5 (Dense)              (None, 128)               32896     \n",
            "_________________________________________________________________\n",
            "dropout_5 (Dropout)          (None, 128)               0         \n",
            "_________________________________________________________________\n",
            "dense_6 (Dense)              (None, 64)                8256      \n",
            "_________________________________________________________________\n",
            "dropout_6 (Dropout)          (None, 64)                0         \n",
            "_________________________________________________________________\n",
            "dense_7 (Dense)              (None, 32)                2080      \n",
            "_________________________________________________________________\n",
            "dropout_7 (Dropout)          (None, 32)                0         \n",
            "_________________________________________________________________\n",
            "dense_8 (Dense)              (None, 16)                528       \n",
            "_________________________________________________________________\n",
            "dense_9 (Dense)              (None, 1)                 17        \n",
            "=================================================================\n",
            "Total params: 11,229,697\n",
            "Trainable params: 11,229,697\n",
            "Non-trainable params: 0\n",
            "_________________________________________________________________\n"
          ],
          "name": "stdout"
        }
      ]
    },
    {
      "cell_type": "code",
      "metadata": {
        "id": "WCubw8o2uV4L",
        "colab_type": "code",
        "colab": {
          "base_uri": "https://localhost:8080/",
          "height": 1000
        },
        "outputId": "e7680e3c-d946-4d55-a754-74d8b55b6178"
      },
      "source": [
        "history = model.fit(train.drop('Survived',axis=1), train[\"Survived\"], epochs=100, batch_size=10, verbose=1, callbacks=[callbacks])"
      ],
      "execution_count": 14,
      "outputs": [
        {
          "output_type": "stream",
          "text": [
            "Epoch 1/100\n",
            "90/90 [==============================] - 1s 8ms/step - loss: 2.2881 - accuracy: 0.4893\n",
            "Epoch 2/100\n",
            "90/90 [==============================] - 1s 9ms/step - loss: 0.7325 - accuracy: 0.5780\n",
            "Epoch 3/100\n",
            "90/90 [==============================] - 1s 9ms/step - loss: 0.6959 - accuracy: 0.5971\n",
            "Epoch 4/100\n",
            "90/90 [==============================] - 1s 9ms/step - loss: 0.6962 - accuracy: 0.6341\n",
            "Epoch 5/100\n",
            "90/90 [==============================] - 1s 8ms/step - loss: 0.6644 - accuracy: 0.6341\n",
            "Epoch 6/100\n",
            "90/90 [==============================] - 1s 9ms/step - loss: 0.6499 - accuracy: 0.6655\n",
            "Epoch 7/100\n",
            "90/90 [==============================] - 1s 9ms/step - loss: 0.6572 - accuracy: 0.6521\n",
            "Epoch 8/100\n",
            "90/90 [==============================] - 1s 8ms/step - loss: 0.6479 - accuracy: 0.6790\n",
            "Epoch 9/100\n",
            "90/90 [==============================] - 1s 8ms/step - loss: 0.6502 - accuracy: 0.6678\n",
            "Epoch 10/100\n",
            "90/90 [==============================] - 1s 8ms/step - loss: 0.6305 - accuracy: 0.6813\n",
            "Epoch 11/100\n",
            "90/90 [==============================] - 1s 8ms/step - loss: 0.6290 - accuracy: 0.7059\n",
            "Epoch 12/100\n",
            "90/90 [==============================] - 1s 8ms/step - loss: 0.6350 - accuracy: 0.6902\n",
            "Epoch 13/100\n",
            "90/90 [==============================] - 1s 8ms/step - loss: 0.6091 - accuracy: 0.6936\n",
            "Epoch 14/100\n",
            "90/90 [==============================] - 1s 8ms/step - loss: 0.6340 - accuracy: 0.7015\n",
            "Epoch 15/100\n",
            "90/90 [==============================] - 1s 8ms/step - loss: 0.6145 - accuracy: 0.7048\n",
            "Epoch 16/100\n",
            "90/90 [==============================] - 1s 8ms/step - loss: 0.6150 - accuracy: 0.7149\n",
            "Epoch 17/100\n",
            "90/90 [==============================] - 1s 8ms/step - loss: 0.5999 - accuracy: 0.7318\n",
            "Epoch 18/100\n",
            "90/90 [==============================] - 1s 8ms/step - loss: 0.6083 - accuracy: 0.7116\n",
            "Epoch 19/100\n",
            "90/90 [==============================] - 1s 9ms/step - loss: 0.5790 - accuracy: 0.7138\n",
            "Epoch 20/100\n",
            "90/90 [==============================] - 1s 8ms/step - loss: 0.5794 - accuracy: 0.7217\n",
            "Epoch 21/100\n",
            "90/90 [==============================] - 1s 8ms/step - loss: 0.5804 - accuracy: 0.7363\n",
            "Epoch 22/100\n",
            "90/90 [==============================] - 1s 8ms/step - loss: 0.6072 - accuracy: 0.7306\n",
            "Epoch 23/100\n",
            "90/90 [==============================] - 1s 8ms/step - loss: 0.5992 - accuracy: 0.7116\n",
            "Epoch 24/100\n",
            "90/90 [==============================] - 1s 8ms/step - loss: 0.6395 - accuracy: 0.7082\n",
            "Epoch 25/100\n",
            "90/90 [==============================] - 1s 9ms/step - loss: 0.5932 - accuracy: 0.7284\n",
            "Epoch 26/100\n",
            "90/90 [==============================] - 1s 9ms/step - loss: 0.5947 - accuracy: 0.7239\n",
            "Epoch 27/100\n",
            "90/90 [==============================] - 1s 9ms/step - loss: 0.6369 - accuracy: 0.7250\n",
            "Epoch 28/100\n",
            "90/90 [==============================] - 1s 9ms/step - loss: 0.5722 - accuracy: 0.7295\n",
            "Epoch 29/100\n",
            "90/90 [==============================] - 1s 9ms/step - loss: 0.5871 - accuracy: 0.7306\n",
            "Epoch 30/100\n",
            "90/90 [==============================] - 1s 9ms/step - loss: 0.5600 - accuracy: 0.7531\n",
            "Epoch 31/100\n",
            "90/90 [==============================] - 1s 8ms/step - loss: 0.6175 - accuracy: 0.7452\n",
            "Epoch 32/100\n",
            "90/90 [==============================] - 1s 8ms/step - loss: 0.5690 - accuracy: 0.7329\n",
            "Epoch 33/100\n",
            "90/90 [==============================] - 1s 8ms/step - loss: 0.6437 - accuracy: 0.7329\n",
            "Epoch 34/100\n",
            "90/90 [==============================] - 1s 8ms/step - loss: 0.5809 - accuracy: 0.7520\n",
            "Epoch 35/100\n",
            "90/90 [==============================] - 1s 9ms/step - loss: 0.5592 - accuracy: 0.7508\n",
            "Epoch 36/100\n",
            "90/90 [==============================] - 1s 8ms/step - loss: 0.5654 - accuracy: 0.7542\n",
            "Epoch 37/100\n",
            "90/90 [==============================] - 1s 8ms/step - loss: 0.5670 - accuracy: 0.7531\n",
            "Epoch 38/100\n",
            "90/90 [==============================] - 1s 8ms/step - loss: 0.5820 - accuracy: 0.7407\n",
            "Epoch 39/100\n",
            "90/90 [==============================] - 1s 8ms/step - loss: 0.5762 - accuracy: 0.7284\n",
            "Epoch 40/100\n",
            "90/90 [==============================] - 1s 9ms/step - loss: 0.5815 - accuracy: 0.7531\n",
            "Epoch 41/100\n",
            "90/90 [==============================] - 1s 8ms/step - loss: 0.6319 - accuracy: 0.7441\n",
            "Epoch 42/100\n",
            "90/90 [==============================] - 1s 8ms/step - loss: 0.5344 - accuracy: 0.7587\n",
            "Epoch 43/100\n",
            "90/90 [==============================] - 1s 8ms/step - loss: 0.5945 - accuracy: 0.7710\n",
            "Epoch 44/100\n",
            "90/90 [==============================] - 1s 8ms/step - loss: 0.6497 - accuracy: 0.7598\n",
            "Epoch 45/100\n",
            "90/90 [==============================] - 1s 8ms/step - loss: 0.5686 - accuracy: 0.7318\n",
            "Epoch 46/100\n",
            "90/90 [==============================] - 1s 9ms/step - loss: 0.5899 - accuracy: 0.7464\n",
            "Epoch 47/100\n",
            "90/90 [==============================] - 1s 8ms/step - loss: 0.6271 - accuracy: 0.7273\n",
            "Epoch 48/100\n",
            "90/90 [==============================] - 1s 8ms/step - loss: 0.6455 - accuracy: 0.7632\n",
            "Epoch 49/100\n",
            "90/90 [==============================] - 1s 8ms/step - loss: 0.5580 - accuracy: 0.7643\n",
            "Epoch 50/100\n",
            "90/90 [==============================] - 1s 8ms/step - loss: 0.5818 - accuracy: 0.7553\n",
            "Epoch 51/100\n",
            "90/90 [==============================] - 1s 8ms/step - loss: 0.5873 - accuracy: 0.7250\n",
            "Epoch 52/100\n",
            "90/90 [==============================] - 1s 9ms/step - loss: 0.5749 - accuracy: 0.7486\n",
            "Epoch 53/100\n",
            "90/90 [==============================] - 1s 9ms/step - loss: 0.5990 - accuracy: 0.7475\n",
            "Epoch 54/100\n",
            "90/90 [==============================] - 1s 9ms/step - loss: 0.5434 - accuracy: 0.7520\n",
            "Epoch 55/100\n",
            "90/90 [==============================] - 1s 8ms/step - loss: 0.5844 - accuracy: 0.7363\n",
            "Epoch 56/100\n",
            "90/90 [==============================] - 1s 8ms/step - loss: 0.5500 - accuracy: 0.7621\n",
            "Epoch 57/100\n",
            "90/90 [==============================] - 1s 8ms/step - loss: 0.5659 - accuracy: 0.7710\n",
            "Epoch 58/100\n",
            "90/90 [==============================] - 1s 8ms/step - loss: 0.5629 - accuracy: 0.7666\n",
            "Epoch 59/100\n",
            "90/90 [==============================] - 1s 9ms/step - loss: 0.5537 - accuracy: 0.7553\n",
            "Epoch 60/100\n",
            "90/90 [==============================] - 1s 8ms/step - loss: 0.5493 - accuracy: 0.7520\n",
            "Epoch 61/100\n",
            "90/90 [==============================] - 1s 9ms/step - loss: 0.6712 - accuracy: 0.7565\n",
            "Epoch 62/100\n",
            "90/90 [==============================] - 1s 8ms/step - loss: 0.5546 - accuracy: 0.7520\n",
            "Epoch 63/100\n",
            "90/90 [==============================] - 1s 8ms/step - loss: 0.7223 - accuracy: 0.7553\n",
            "Epoch 64/100\n",
            "90/90 [==============================] - 1s 8ms/step - loss: 0.5543 - accuracy: 0.7497\n",
            "Epoch 65/100\n",
            "90/90 [==============================] - 1s 9ms/step - loss: 0.5854 - accuracy: 0.7666\n",
            "Epoch 66/100\n",
            "90/90 [==============================] - 1s 8ms/step - loss: 0.5510 - accuracy: 0.7553\n",
            "Epoch 67/100\n",
            "90/90 [==============================] - 1s 9ms/step - loss: 0.7313 - accuracy: 0.7520\n",
            "Epoch 68/100\n",
            "90/90 [==============================] - 1s 8ms/step - loss: 0.8360 - accuracy: 0.7486\n",
            "Epoch 69/100\n",
            "90/90 [==============================] - 1s 8ms/step - loss: 0.5657 - accuracy: 0.7464\n",
            "Epoch 70/100\n",
            "90/90 [==============================] - 1s 8ms/step - loss: 0.5735 - accuracy: 0.7553\n",
            "Epoch 71/100\n",
            "90/90 [==============================] - 1s 8ms/step - loss: 0.5689 - accuracy: 0.7587\n",
            "Epoch 72/100\n",
            "90/90 [==============================] - 1s 8ms/step - loss: 0.6170 - accuracy: 0.7587\n",
            "Epoch 73/100\n",
            "90/90 [==============================] - 1s 8ms/step - loss: 0.5782 - accuracy: 0.7598\n",
            "Epoch 74/100\n",
            "90/90 [==============================] - 1s 8ms/step - loss: 0.5653 - accuracy: 0.7565\n",
            "Epoch 75/100\n",
            "90/90 [==============================] - 1s 8ms/step - loss: 0.5927 - accuracy: 0.7834\n",
            "Epoch 76/100\n",
            "90/90 [==============================] - 1s 8ms/step - loss: 0.5792 - accuracy: 0.7621\n",
            "Epoch 77/100\n",
            "90/90 [==============================] - 1s 8ms/step - loss: 0.5854 - accuracy: 0.7598\n",
            "Epoch 78/100\n",
            "90/90 [==============================] - 1s 9ms/step - loss: 0.6562 - accuracy: 0.7688\n",
            "Epoch 79/100\n",
            "90/90 [==============================] - 1s 8ms/step - loss: 0.5543 - accuracy: 0.7621\n",
            "Epoch 80/100\n",
            "90/90 [==============================] - 1s 8ms/step - loss: 0.5953 - accuracy: 0.7452\n",
            "Epoch 81/100\n",
            "90/90 [==============================] - 1s 8ms/step - loss: 0.7361 - accuracy: 0.7318\n",
            "Epoch 82/100\n",
            "90/90 [==============================] - 1s 8ms/step - loss: 0.5687 - accuracy: 0.7621\n",
            "Epoch 83/100\n",
            "90/90 [==============================] - 1s 8ms/step - loss: 0.6144 - accuracy: 0.7531\n",
            "Epoch 84/100\n",
            "90/90 [==============================] - 1s 8ms/step - loss: 0.5937 - accuracy: 0.7531\n",
            "Epoch 85/100\n",
            "90/90 [==============================] - 1s 8ms/step - loss: 0.6026 - accuracy: 0.7531\n",
            "Epoch 86/100\n",
            "90/90 [==============================] - 1s 8ms/step - loss: 0.5651 - accuracy: 0.7609\n",
            "Epoch 87/100\n",
            "90/90 [==============================] - 1s 8ms/step - loss: 0.5435 - accuracy: 0.7733\n",
            "Epoch 88/100\n",
            "90/90 [==============================] - 1s 8ms/step - loss: 0.5902 - accuracy: 0.7587\n",
            "Epoch 89/100\n",
            "90/90 [==============================] - 1s 8ms/step - loss: 0.5594 - accuracy: 0.7733\n",
            "Epoch 90/100\n",
            "90/90 [==============================] - 1s 8ms/step - loss: 0.5561 - accuracy: 0.7598\n",
            "Epoch 91/100\n",
            "90/90 [==============================] - 1s 9ms/step - loss: 0.6492 - accuracy: 0.7486\n",
            "Epoch 92/100\n",
            "90/90 [==============================] - 1s 9ms/step - loss: 0.5474 - accuracy: 0.7508\n",
            "Epoch 93/100\n",
            "90/90 [==============================] - 1s 8ms/step - loss: 0.6647 - accuracy: 0.7351\n",
            "Epoch 94/100\n",
            "90/90 [==============================] - 1s 8ms/step - loss: 0.5664 - accuracy: 0.7632\n",
            "Epoch 95/100\n",
            "90/90 [==============================] - 1s 9ms/step - loss: 0.5626 - accuracy: 0.7654\n",
            "Epoch 96/100\n",
            "90/90 [==============================] - 1s 8ms/step - loss: 0.6014 - accuracy: 0.7486\n",
            "Epoch 97/100\n",
            "90/90 [==============================] - 1s 8ms/step - loss: 0.7308 - accuracy: 0.7396\n",
            "Epoch 98/100\n",
            "90/90 [==============================] - 1s 8ms/step - loss: 0.5165 - accuracy: 0.7654\n",
            "Epoch 99/100\n",
            "90/90 [==============================] - 1s 8ms/step - loss: 0.8985 - accuracy: 0.7486\n",
            "Epoch 100/100\n",
            "90/90 [==============================] - 1s 8ms/step - loss: 0.5916 - accuracy: 0.7767\n"
          ],
          "name": "stdout"
        }
      ]
    },
    {
      "cell_type": "code",
      "metadata": {
        "id": "orL3AZ6kyqtp",
        "colab_type": "code",
        "colab": {
          "base_uri": "https://localhost:8080/",
          "height": 282
        },
        "outputId": "2e999352-5dc0-4f75-c56e-686c8a916c4d"
      },
      "source": [
        "plt.plot(history.history['accuracy'])"
      ],
      "execution_count": 15,
      "outputs": [
        {
          "output_type": "execute_result",
          "data": {
            "text/plain": [
              "[<matplotlib.lines.Line2D at 0x7f3b425950b8>]"
            ]
          },
          "metadata": {
            "tags": []
          },
          "execution_count": 15
        },
        {
          "output_type": "display_data",
          "data": {
            "image/png": "[encoded data removed]",
            "text/plain": [
              "<Figure size 432x288 with 1 Axes>"
            ]
          },
          "metadata": {
            "tags": [],
            "needs_background": "light"
          }
        }
      ]
    },
    {
      "cell_type": "code",
      "metadata": {
        "id": "15MHDJWW0GVw",
        "colab_type": "code",
        "colab": {}
      },
      "source": [
        "testID = test[\"PassengerId\"]"
      ],
      "execution_count": 16,
      "outputs": []
    },
    {
      "cell_type": "code",
      "metadata": {
        "id": "0ChToBVHzXBC",
        "colab_type": "code",
        "colab": {}
      },
      "source": [
        "predict = model.predict(test)\n",
        "predictions = [0 if el < 0.5 else 1 for el in predict]\n",
        "result = pd.DataFrame({'PassengerId': testID, 'Survived': predictions})\n",
        "result.to_csv('result.csv', index=False)"
      ],
      "execution_count": 19,
      "outputs": []
    },
    {
      "cell_type": "code",
      "metadata": {
        "id": "TNCJQKBd0n6F",
        "colab_type": "code",
        "colab": {}
      },
      "source": [
        "# Got a 0.73923 score on Kaggle"
      ],
      "execution_count": 18,
      "outputs": []
    }
  ]
}