{
  "nbformat": 4,
  "nbformat_minor": 0,
  "metadata": {
    "kernelspec": {
      "display_name": "Python 3",
      "language": "python",
      "name": "python3"
    },
    "language_info": {
      "codemirror_mode": {
        "name": "ipython",
        "version": 3
      },
      "file_extension": ".py",
      "mimetype": "text/x-python",
      "name": "python",
      "nbconvert_exporter": "python",
      "pygments_lexer": "ipython3",
      "version": "3.7.4"
    },
    "colab": {
      "name": "titanic_predict.ipynb",
      "provenance": [],
      "toc_visible": true
    }
  },
  "cells": [
    {
      "cell_type": "markdown",
      "metadata": {
        "id": "bS3u-5qDncg7",
        "colab_type": "text"
      },
      "source": [
        "#### Notebook by Bruno Pasini\n",
        "\n",
        "github.com/brunompasini"
      ]
    },
    {
      "cell_type": "markdown",
      "metadata": {
        "id": "mJDA6wMhncg9",
        "colab_type": "text"
      },
      "source": [
        "## Imports"
      ]
    },
    {
      "cell_type": "code",
      "metadata": {
        "id": "gG66sa6Jncg-",
        "colab_type": "code",
        "colab": {}
      },
      "source": [
        "import pandas as pd\n",
        "import numpy as np\n",
        "import matplotlib.pyplot as plt\n",
        "%matplotlib inline"
      ],
      "execution_count": 1,
      "outputs": []
    },
    {
      "cell_type": "markdown",
      "metadata": {
        "id": "-C11WMIhnchG",
        "colab_type": "text"
      },
      "source": [
        "## Reading Data"
      ]
    },
    {
      "cell_type": "code",
      "metadata": {
        "id": "ticqiy1vnchI",
        "colab_type": "code",
        "colab": {}
      },
      "source": [
        "train = pd.read_csv(\"train.csv\")\n",
        "test = pd.read_csv(\"test.csv\")"
      ],
      "execution_count": 2,
      "outputs": []
    },
    {
      "cell_type": "markdown",
      "metadata": {
        "id": "eTfk9q3hnchM",
        "colab_type": "text"
      },
      "source": [
        "## How the data looks like"
      ]
    },
    {
      "cell_type": "markdown",
      "metadata": {
        "id": "sOXXVLRynchN",
        "colab_type": "text"
      },
      "source": [
        "#### Some Definitions\n",
        "Survived: 0 = No; 1 = Yes  \n",
        "SibSp: Number of siblings and spouses aboard  \n",
        "ParCh: Number of parents and children aboard  \n",
        "Embarked: C = Cherbourg; Q = Queenstown; S = Southampton  "
      ]
    },
    {
      "cell_type": "code",
      "metadata": {
        "id": "9lOkKy20nchO",
        "colab_type": "code",
        "colab": {
          "base_uri": "https://localhost:8080/",
          "height": 255
        },
        "outputId": "2c2350eb-0f57-44af-df9e-6d4af7eb0667"
      },
      "source": [
        "train.head()"
      ],
      "execution_count": 3,
      "outputs": [
        {
          "output_type": "execute_result",
          "data": {
            "text/html": [
              "<div>\n",
              "<style scoped>\n",
              "    .dataframe tbody tr th:only-of-type {\n",
              "        vertical-align: middle;\n",
              "    }\n",
              "\n",
              "    .dataframe tbody tr th {\n",
              "        vertical-align: top;\n",
              "    }\n",
              "\n",
              "    .dataframe thead th {\n",
              "        text-align: right;\n",
              "    }\n",
              "</style>\n",
              "<table border=\"1\" class=\"dataframe\">\n",
              "  <thead>\n",
              "    <tr style=\"text-align: right;\">\n",
              "      <th></th>\n",
              "      <th>PassengerId</th>\n",
              "      <th>Survived</th>\n",
              "      <th>Pclass</th>\n",
              "      <th>Name</th>\n",
              "      <th>Sex</th>\n",
              "      <th>Age</th>\n",
              "      <th>SibSp</th>\n",
              "      <th>Parch</th>\n",
              "      <th>Ticket</th>\n",
              "      <th>Fare</th>\n",
              "      <th>Cabin</th>\n",
              "      <th>Embarked</th>\n",
              "    </tr>\n",
              "  </thead>\n",
              "  <tbody>\n",
              "    <tr>\n",
              "      <th>0</th>\n",
              "      <td>1</td>\n",
              "      <td>0</td>\n",
              "      <td>3</td>\n",
              "      <td>Braund, Mr. Owen Harris</td>\n",
              "      <td>male</td>\n",
              "      <td>22.0</td>\n",
              "      <td>1</td>\n",
              "      <td>0</td>\n",
              "      <td>A/5 21171</td>\n",
              "      <td>7.2500</td>\n",
              "      <td>NaN</td>\n",
              "      <td>S</td>\n",
              "    </tr>\n",
              "    <tr>\n",
              "      <th>1</th>\n",
              "      <td>2</td>\n",
              "      <td>1</td>\n",
              "      <td>1</td>\n",
              "      <td>Cumings, Mrs. John Bradley (Florence Briggs Th...</td>\n",
              "      <td>female</td>\n",
              "      <td>38.0</td>\n",
              "      <td>1</td>\n",
              "      <td>0</td>\n",
              "      <td>PC 17599</td>\n",
              "      <td>71.2833</td>\n",
              "      <td>C85</td>\n",
              "      <td>C</td>\n",
              "    </tr>\n",
              "    <tr>\n",
              "      <th>2</th>\n",
              "      <td>3</td>\n",
              "      <td>1</td>\n",
              "      <td>3</td>\n",
              "      <td>Heikkinen, Miss. Laina</td>\n",
              "      <td>female</td>\n",
              "      <td>26.0</td>\n",
              "      <td>0</td>\n",
              "      <td>0</td>\n",
              "      <td>STON/O2. 3101282</td>\n",
              "      <td>7.9250</td>\n",
              "      <td>NaN</td>\n",
              "      <td>S</td>\n",
              "    </tr>\n",
              "    <tr>\n",
              "      <th>3</th>\n",
              "      <td>4</td>\n",
              "      <td>1</td>\n",
              "      <td>1</td>\n",
              "      <td>Futrelle, Mrs. Jacques Heath (Lily May Peel)</td>\n",
              "      <td>female</td>\n",
              "      <td>35.0</td>\n",
              "      <td>1</td>\n",
              "      <td>0</td>\n",
              "      <td>113803</td>\n",
              "      <td>53.1000</td>\n",
              "      <td>C123</td>\n",
              "      <td>S</td>\n",
              "    </tr>\n",
              "    <tr>\n",
              "      <th>4</th>\n",
              "      <td>5</td>\n",
              "      <td>0</td>\n",
              "      <td>3</td>\n",
              "      <td>Allen, Mr. William Henry</td>\n",
              "      <td>male</td>\n",
              "      <td>35.0</td>\n",
              "      <td>0</td>\n",
              "      <td>0</td>\n",
              "      <td>373450</td>\n",
              "      <td>8.0500</td>\n",
              "      <td>NaN</td>\n",
              "      <td>S</td>\n",
              "    </tr>\n",
              "  </tbody>\n",
              "</table>\n",
              "</div>"
            ],
            "text/plain": [
              "   PassengerId  Survived  Pclass  ...     Fare Cabin  Embarked\n",
              "0            1         0       3  ...   7.2500   NaN         S\n",
              "1            2         1       1  ...  71.2833   C85         C\n",
              "2            3         1       3  ...   7.9250   NaN         S\n",
              "3            4         1       1  ...  53.1000  C123         S\n",
              "4            5         0       3  ...   8.0500   NaN         S\n",
              "\n",
              "[5 rows x 12 columns]"
            ]
          },
          "metadata": {
            "tags": []
          },
          "execution_count": 3
        }
      ]
    },
    {
      "cell_type": "code",
      "metadata": {
        "id": "-KYNieLAnchU",
        "colab_type": "code",
        "colab": {
          "base_uri": "https://localhost:8080/",
          "height": 221
        },
        "outputId": "db9cae0d-0d8c-4a6e-e9c4-b07c764f5338"
      },
      "source": [
        "test.head()"
      ],
      "execution_count": 4,
      "outputs": [
        {
          "output_type": "execute_result",
          "data": {
            "text/html": [
              "<div>\n",
              "<style scoped>\n",
              "    .dataframe tbody tr th:only-of-type {\n",
              "        vertical-align: middle;\n",
              "    }\n",
              "\n",
              "    .dataframe tbody tr th {\n",
              "        vertical-align: top;\n",
              "    }\n",
              "\n",
              "    .dataframe thead th {\n",
              "        text-align: right;\n",
              "    }\n",
              "</style>\n",
              "<table border=\"1\" class=\"dataframe\">\n",
              "  <thead>\n",
              "    <tr style=\"text-align: right;\">\n",
              "      <th></th>\n",
              "      <th>PassengerId</th>\n",
              "      <th>Pclass</th>\n",
              "      <th>Name</th>\n",
              "      <th>Sex</th>\n",
              "      <th>Age</th>\n",
              "      <th>SibSp</th>\n",
              "      <th>Parch</th>\n",
              "      <th>Ticket</th>\n",
              "      <th>Fare</th>\n",
              "      <th>Cabin</th>\n",
              "      <th>Embarked</th>\n",
              "    </tr>\n",
              "  </thead>\n",
              "  <tbody>\n",
              "    <tr>\n",
              "      <th>0</th>\n",
              "      <td>892</td>\n",
              "      <td>3</td>\n",
              "      <td>Kelly, Mr. James</td>\n",
              "      <td>male</td>\n",
              "      <td>34.5</td>\n",
              "      <td>0</td>\n",
              "      <td>0</td>\n",
              "      <td>330911</td>\n",
              "      <td>7.8292</td>\n",
              "      <td>NaN</td>\n",
              "      <td>Q</td>\n",
              "    </tr>\n",
              "    <tr>\n",
              "      <th>1</th>\n",
              "      <td>893</td>\n",
              "      <td>3</td>\n",
              "      <td>Wilkes, Mrs. James (Ellen Needs)</td>\n",
              "      <td>female</td>\n",
              "      <td>47.0</td>\n",
              "      <td>1</td>\n",
              "      <td>0</td>\n",
              "      <td>363272</td>\n",
              "      <td>7.0000</td>\n",
              "      <td>NaN</td>\n",
              "      <td>S</td>\n",
              "    </tr>\n",
              "    <tr>\n",
              "      <th>2</th>\n",
              "      <td>894</td>\n",
              "      <td>2</td>\n",
              "      <td>Myles, Mr. Thomas Francis</td>\n",
              "      <td>male</td>\n",
              "      <td>62.0</td>\n",
              "      <td>0</td>\n",
              "      <td>0</td>\n",
              "      <td>240276</td>\n",
              "      <td>9.6875</td>\n",
              "      <td>NaN</td>\n",
              "      <td>Q</td>\n",
              "    </tr>\n",
              "    <tr>\n",
              "      <th>3</th>\n",
              "      <td>895</td>\n",
              "      <td>3</td>\n",
              "      <td>Wirz, Mr. Albert</td>\n",
              "      <td>male</td>\n",
              "      <td>27.0</td>\n",
              "      <td>0</td>\n",
              "      <td>0</td>\n",
              "      <td>315154</td>\n",
              "      <td>8.6625</td>\n",
              "      <td>NaN</td>\n",
              "      <td>S</td>\n",
              "    </tr>\n",
              "    <tr>\n",
              "      <th>4</th>\n",
              "      <td>896</td>\n",
              "      <td>3</td>\n",
              "      <td>Hirvonen, Mrs. Alexander (Helga E Lindqvist)</td>\n",
              "      <td>female</td>\n",
              "      <td>22.0</td>\n",
              "      <td>1</td>\n",
              "      <td>1</td>\n",
              "      <td>3101298</td>\n",
              "      <td>12.2875</td>\n",
              "      <td>NaN</td>\n",
              "      <td>S</td>\n",
              "    </tr>\n",
              "  </tbody>\n",
              "</table>\n",
              "</div>"
            ],
            "text/plain": [
              "   PassengerId  Pclass  ... Cabin Embarked\n",
              "0          892       3  ...   NaN        Q\n",
              "1          893       3  ...   NaN        S\n",
              "2          894       2  ...   NaN        Q\n",
              "3          895       3  ...   NaN        S\n",
              "4          896       3  ...   NaN        S\n",
              "\n",
              "[5 rows x 11 columns]"
            ]
          },
          "metadata": {
            "tags": []
          },
          "execution_count": 4
        }
      ]
    },
    {
      "cell_type": "code",
      "metadata": {
        "id": "FyOw5lt1ncha",
        "colab_type": "code",
        "colab": {
          "base_uri": "https://localhost:8080/",
          "height": 680
        },
        "outputId": "002a6492-d0ae-487e-ec51-4b6399d683e0"
      },
      "source": [
        "print(train.info())\n",
        "print(test.info())"
      ],
      "execution_count": 5,
      "outputs": [
        {
          "output_type": "stream",
          "text": [
            "<class 'pandas.core.frame.DataFrame'>\n",
            "RangeIndex: 891 entries, 0 to 890\n",
            "Data columns (total 12 columns):\n",
            " #   Column       Non-Null Count  Dtype  \n",
            "---  ------       --------------  -----  \n",
            " 0   PassengerId  891 non-null    int64  \n",
            " 1   Survived     891 non-null    int64  \n",
            " 2   Pclass       891 non-null    int64  \n",
            " 3   Name         891 non-null    object \n",
            " 4   Sex          891 non-null    object \n",
            " 5   Age          714 non-null    float64\n",
            " 6   SibSp        891 non-null    int64  \n",
            " 7   Parch        891 non-null    int64  \n",
            " 8   Ticket       891 non-null    object \n",
            " 9   Fare         891 non-null    float64\n",
            " 10  Cabin        204 non-null    object \n",
            " 11  Embarked     889 non-null    object \n",
            "dtypes: float64(2), int64(5), object(5)\n",
            "memory usage: 83.7+ KB\n",
            "None\n",
            "<class 'pandas.core.frame.DataFrame'>\n",
            "RangeIndex: 418 entries, 0 to 417\n",
            "Data columns (total 11 columns):\n",
            " #   Column       Non-Null Count  Dtype  \n",
            "---  ------       --------------  -----  \n",
            " 0   PassengerId  418 non-null    int64  \n",
            " 1   Pclass       418 non-null    int64  \n",
            " 2   Name         418 non-null    object \n",
            " 3   Sex          418 non-null    object \n",
            " 4   Age          332 non-null    float64\n",
            " 5   SibSp        418 non-null    int64  \n",
            " 6   Parch        418 non-null    int64  \n",
            " 7   Ticket       418 non-null    object \n",
            " 8   Fare         417 non-null    float64\n",
            " 9   Cabin        91 non-null     object \n",
            " 10  Embarked     418 non-null    object \n",
            "dtypes: float64(2), int64(4), object(5)\n",
            "memory usage: 36.0+ KB\n",
            "None\n"
          ],
          "name": "stdout"
        }
      ]
    },
    {
      "cell_type": "markdown",
      "metadata": {
        "id": "THOSP6dZnchf",
        "colab_type": "text"
      },
      "source": [
        "##### Null values"
      ]
    },
    {
      "cell_type": "code",
      "metadata": {
        "id": "3Q9SzLzMnchg",
        "colab_type": "code",
        "colab": {
          "base_uri": "https://localhost:8080/",
          "height": 459
        },
        "outputId": "6c839b73-53be-43c6-aeb1-ba57119c1370"
      },
      "source": [
        "print(train.isnull().sum())\n",
        "print(\"-\"*20 +\"//\"+\"-\"*20)\n",
        "print(test.isnull().sum())"
      ],
      "execution_count": 6,
      "outputs": [
        {
          "output_type": "stream",
          "text": [
            "PassengerId      0\n",
            "Survived         0\n",
            "Pclass           0\n",
            "Name             0\n",
            "Sex              0\n",
            "Age            177\n",
            "SibSp            0\n",
            "Parch            0\n",
            "Ticket           0\n",
            "Fare             0\n",
            "Cabin          687\n",
            "Embarked         2\n",
            "dtype: int64\n",
            "--------------------//--------------------\n",
            "PassengerId      0\n",
            "Pclass           0\n",
            "Name             0\n",
            "Sex              0\n",
            "Age             86\n",
            "SibSp            0\n",
            "Parch            0\n",
            "Ticket           0\n",
            "Fare             1\n",
            "Cabin          327\n",
            "Embarked         0\n",
            "dtype: int64\n"
          ],
          "name": "stdout"
        }
      ]
    },
    {
      "cell_type": "code",
      "metadata": {
        "id": "4MGT7V6Mnchm",
        "colab_type": "code",
        "colab": {}
      },
      "source": [
        "data = [train, test]"
      ],
      "execution_count": 7,
      "outputs": []
    },
    {
      "cell_type": "code",
      "metadata": {
        "id": "PfZFTg3bnchw",
        "colab_type": "code",
        "colab": {}
      },
      "source": [
        "for el in data:\n",
        "    el['Age'].fillna(el['Age'].median(), inplace=True)\n",
        "    el['Fare'].fillna(el['Fare'].median(), inplace=True)\n",
        "    el['Embarked'].fillna(el['Embarked'].mode()[0], inplace=True)"
      ],
      "execution_count": 8,
      "outputs": []
    },
    {
      "cell_type": "code",
      "metadata": {
        "id": "rTaqz0iwnch4",
        "colab_type": "code",
        "colab": {}
      },
      "source": [
        "# Droping Cabin and Ticket, both non-numerical values since Fare and Class covers the Economic Status\n",
        "train.drop(['Cabin', 'Ticket', 'Name'], axis=1, inplace=True)\n",
        "train.head()\n",
        "test.drop(['Cabin', 'Ticket', 'Name'], axis=1, inplace=True)"
      ],
      "execution_count": 9,
      "outputs": []
    },
    {
      "cell_type": "markdown",
      "metadata": {
        "id": "yuyb0jdWnch9",
        "colab_type": "text"
      },
      "source": [
        "### Will be using a NN to predict"
      ]
    },
    {
      "cell_type": "code",
      "metadata": {
        "id": "QhxKqHkdnch9",
        "colab_type": "code",
        "colab": {}
      },
      "source": [
        "import tensorflow as tf\n",
        "from tensorflow import keras\n",
        "from keras.optimizers import Adam, RMSprop"
      ],
      "execution_count": 10,
      "outputs": []
    },
    {
      "cell_type": "code",
      "metadata": {
        "id": "dk2yCeivoteh",
        "colab_type": "code",
        "colab": {
          "base_uri": "https://localhost:8080/",
          "height": 204
        },
        "outputId": "70b47032-9944-4b50-ad26-cdbf513ccd1b"
      },
      "source": [
        "train = pd.get_dummies(train)\n",
        "test = pd.get_dummies(test)\n",
        "train.head()"
      ],
      "execution_count": 11,
      "outputs": [
        {
          "output_type": "execute_result",
          "data": {
            "text/html": [
              "<div>\n",
              "<style scoped>\n",
              "    .dataframe tbody tr th:only-of-type {\n",
              "        vertical-align: middle;\n",
              "    }\n",
              "\n",
              "    .dataframe tbody tr th {\n",
              "        vertical-align: top;\n",
              "    }\n",
              "\n",
              "    .dataframe thead th {\n",
              "        text-align: right;\n",
              "    }\n",
              "</style>\n",
              "<table border=\"1\" class=\"dataframe\">\n",
              "  <thead>\n",
              "    <tr style=\"text-align: right;\">\n",
              "      <th></th>\n",
              "      <th>PassengerId</th>\n",
              "      <th>Survived</th>\n",
              "      <th>Pclass</th>\n",
              "      <th>Age</th>\n",
              "      <th>SibSp</th>\n",
              "      <th>Parch</th>\n",
              "      <th>Fare</th>\n",
              "      <th>Sex_female</th>\n",
              "      <th>Sex_male</th>\n",
              "      <th>Embarked_C</th>\n",
              "      <th>Embarked_Q</th>\n",
              "      <th>Embarked_S</th>\n",
              "    </tr>\n",
              "  </thead>\n",
              "  <tbody>\n",
              "    <tr>\n",
              "      <th>0</th>\n",
              "      <td>1</td>\n",
              "      <td>0</td>\n",
              "      <td>3</td>\n",
              "      <td>22.0</td>\n",
              "      <td>1</td>\n",
              "      <td>0</td>\n",
              "      <td>7.2500</td>\n",
              "      <td>0</td>\n",
              "      <td>1</td>\n",
              "      <td>0</td>\n",
              "      <td>0</td>\n",
              "      <td>1</td>\n",
              "    </tr>\n",
              "    <tr>\n",
              "      <th>1</th>\n",
              "      <td>2</td>\n",
              "      <td>1</td>\n",
              "      <td>1</td>\n",
              "      <td>38.0</td>\n",
              "      <td>1</td>\n",
              "      <td>0</td>\n",
              "      <td>71.2833</td>\n",
              "      <td>1</td>\n",
              "      <td>0</td>\n",
              "      <td>1</td>\n",
              "      <td>0</td>\n",
              "      <td>0</td>\n",
              "    </tr>\n",
              "    <tr>\n",
              "      <th>2</th>\n",
              "      <td>3</td>\n",
              "      <td>1</td>\n",
              "      <td>3</td>\n",
              "      <td>26.0</td>\n",
              "      <td>0</td>\n",
              "      <td>0</td>\n",
              "      <td>7.9250</td>\n",
              "      <td>1</td>\n",
              "      <td>0</td>\n",
              "      <td>0</td>\n",
              "      <td>0</td>\n",
              "      <td>1</td>\n",
              "    </tr>\n",
              "    <tr>\n",
              "      <th>3</th>\n",
              "      <td>4</td>\n",
              "      <td>1</td>\n",
              "      <td>1</td>\n",
              "      <td>35.0</td>\n",
              "      <td>1</td>\n",
              "      <td>0</td>\n",
              "      <td>53.1000</td>\n",
              "      <td>1</td>\n",
              "      <td>0</td>\n",
              "      <td>0</td>\n",
              "      <td>0</td>\n",
              "      <td>1</td>\n",
              "    </tr>\n",
              "    <tr>\n",
              "      <th>4</th>\n",
              "      <td>5</td>\n",
              "      <td>0</td>\n",
              "      <td>3</td>\n",
              "      <td>35.0</td>\n",
              "      <td>0</td>\n",
              "      <td>0</td>\n",
              "      <td>8.0500</td>\n",
              "      <td>0</td>\n",
              "      <td>1</td>\n",
              "      <td>0</td>\n",
              "      <td>0</td>\n",
              "      <td>1</td>\n",
              "    </tr>\n",
              "  </tbody>\n",
              "</table>\n",
              "</div>"
            ],
            "text/plain": [
              "   PassengerId  Survived  Pclass  ...  Embarked_C  Embarked_Q  Embarked_S\n",
              "0            1         0       3  ...           0           0           1\n",
              "1            2         1       1  ...           1           0           0\n",
              "2            3         1       3  ...           0           0           1\n",
              "3            4         1       1  ...           0           0           1\n",
              "4            5         0       3  ...           0           0           1\n",
              "\n",
              "[5 rows x 12 columns]"
            ]
          },
          "metadata": {
            "tags": []
          },
          "execution_count": 11
        }
      ]
    },
    {
      "cell_type": "code",
      "metadata": {
        "id": "aSzYF5u5siXS",
        "colab_type": "code",
        "colab": {}
      },
      "source": [
        "model = tf.keras.models.Sequential([\n",
        "  tf.keras.layers.InputLayer(input_shape=(11,)),\n",
        "  tf.keras.layers.Dense(4096, activation='relu'),\n",
        "  tf.keras.layers.Dropout(0.1),\n",
        "  tf.keras.layers.Dense(512, activation='relu'),\n",
        "  tf.keras.layers.Dropout(0.1),\n",
        "  tf.keras.layers.Dense(256, activation='relu'),\n",
        "  tf.keras.layers.Dropout(0.1),\n",
        "  tf.keras.layers.Dense(128, activation='relu'),\n",
        "  tf.keras.layers.Dropout(0.1),\n",
        "  tf.keras.layers.Dense(64, activation='relu'),\n",
        "  tf.keras.layers.Dropout(0.1),\n",
        "  tf.keras.layers.Dense(32, activation='relu'),\n",
        "  tf.keras.layers.Dropout(0.1),\n",
        "  tf.keras.layers.Dense(16, activation='relu'),\n",
        "  tf.keras.layers.Dense(1, activation='sigmoid')\n",
        "])\n",
        "model.compile(optimizer=RMSprop(lr=0.001), loss='binary_crossentropy', metrics=['accuracy'])"
      ],
      "execution_count": 12,
      "outputs": []
    },
    {
      "cell_type": "code",
      "metadata": {
        "id": "WCubw8o2uV4L",
        "colab_type": "code",
        "colab": {
          "base_uri": "https://localhost:8080/",
          "height": 1000
        },
        "outputId": "55c9d06f-d9b1-4bce-c67b-2360a47710eb"
      },
      "source": [
        "history = model.fit(train.drop('Survived',axis=1), train[\"Survived\"], epochs=100, batch_size=10, verbose=1)"
      ],
      "execution_count": 13,
      "outputs": [
        {
          "output_type": "stream",
          "text": [
            "Epoch 1/100\n",
            "90/90 [==============================] - 2s 27ms/step - loss: 1.9682 - accuracy: 0.5275\n",
            "Epoch 2/100\n",
            "90/90 [==============================] - 2s 27ms/step - loss: 0.7375 - accuracy: 0.5892\n",
            "Epoch 3/100\n",
            "90/90 [==============================] - 2s 27ms/step - loss: 0.6995 - accuracy: 0.6195\n",
            "Epoch 4/100\n",
            "90/90 [==============================] - 2s 27ms/step - loss: 0.6638 - accuracy: 0.6240\n",
            "Epoch 5/100\n",
            "90/90 [==============================] - 2s 27ms/step - loss: 0.6402 - accuracy: 0.6453\n",
            "Epoch 6/100\n",
            "90/90 [==============================] - 2s 27ms/step - loss: 0.6393 - accuracy: 0.6723\n",
            "Epoch 7/100\n",
            "90/90 [==============================] - 2s 27ms/step - loss: 0.6389 - accuracy: 0.6633\n",
            "Epoch 8/100\n",
            "90/90 [==============================] - 2s 27ms/step - loss: 0.6284 - accuracy: 0.6790\n",
            "Epoch 9/100\n",
            "90/90 [==============================] - 2s 27ms/step - loss: 0.6259 - accuracy: 0.6779\n",
            "Epoch 10/100\n",
            "90/90 [==============================] - 2s 27ms/step - loss: 0.6025 - accuracy: 0.6970\n",
            "Epoch 11/100\n",
            "90/90 [==============================] - 2s 27ms/step - loss: 0.5918 - accuracy: 0.7104\n",
            "Epoch 12/100\n",
            "90/90 [==============================] - 2s 27ms/step - loss: 0.5850 - accuracy: 0.7082\n",
            "Epoch 13/100\n",
            "90/90 [==============================] - 2s 28ms/step - loss: 0.5977 - accuracy: 0.7217\n",
            "Epoch 14/100\n",
            "90/90 [==============================] - 2s 27ms/step - loss: 0.5951 - accuracy: 0.7284\n",
            "Epoch 15/100\n",
            "90/90 [==============================] - 2s 27ms/step - loss: 0.5702 - accuracy: 0.7351\n",
            "Epoch 16/100\n",
            "90/90 [==============================] - 2s 27ms/step - loss: 0.5842 - accuracy: 0.7273\n",
            "Epoch 17/100\n",
            "90/90 [==============================] - 2s 27ms/step - loss: 0.5779 - accuracy: 0.7576\n",
            "Epoch 18/100\n",
            "90/90 [==============================] - 2s 27ms/step - loss: 0.5717 - accuracy: 0.7419\n",
            "Epoch 19/100\n",
            "90/90 [==============================] - 2s 27ms/step - loss: 0.5692 - accuracy: 0.7407\n",
            "Epoch 20/100\n",
            "90/90 [==============================] - 2s 27ms/step - loss: 0.5739 - accuracy: 0.7576\n",
            "Epoch 21/100\n",
            "90/90 [==============================] - 2s 27ms/step - loss: 0.5753 - accuracy: 0.7598\n",
            "Epoch 22/100\n",
            "90/90 [==============================] - 2s 27ms/step - loss: 0.5731 - accuracy: 0.7553\n",
            "Epoch 23/100\n",
            "90/90 [==============================] - 2s 27ms/step - loss: 0.5630 - accuracy: 0.7475\n",
            "Epoch 24/100\n",
            "90/90 [==============================] - 2s 27ms/step - loss: 0.5654 - accuracy: 0.7351\n",
            "Epoch 25/100\n",
            "90/90 [==============================] - 2s 27ms/step - loss: 0.5715 - accuracy: 0.7396\n",
            "Epoch 26/100\n",
            "90/90 [==============================] - 2s 27ms/step - loss: 0.5711 - accuracy: 0.7553\n",
            "Epoch 27/100\n",
            "90/90 [==============================] - 2s 27ms/step - loss: 0.5346 - accuracy: 0.7688\n",
            "Epoch 28/100\n",
            "90/90 [==============================] - 2s 27ms/step - loss: 0.5609 - accuracy: 0.7621\n",
            "Epoch 29/100\n",
            "90/90 [==============================] - 2s 27ms/step - loss: 0.5673 - accuracy: 0.7553\n",
            "Epoch 30/100\n",
            "90/90 [==============================] - 2s 27ms/step - loss: 0.5406 - accuracy: 0.7621\n",
            "Epoch 31/100\n",
            "90/90 [==============================] - 2s 27ms/step - loss: 0.5584 - accuracy: 0.7710\n",
            "Epoch 32/100\n",
            "90/90 [==============================] - 2s 27ms/step - loss: 0.5614 - accuracy: 0.7531\n",
            "Epoch 33/100\n",
            "90/90 [==============================] - 2s 27ms/step - loss: 0.5494 - accuracy: 0.7688\n",
            "Epoch 34/100\n",
            "90/90 [==============================] - 2s 27ms/step - loss: 0.5526 - accuracy: 0.7733\n",
            "Epoch 35/100\n",
            "90/90 [==============================] - 2s 27ms/step - loss: 0.5560 - accuracy: 0.7475\n",
            "Epoch 36/100\n",
            "90/90 [==============================] - 2s 27ms/step - loss: 0.5292 - accuracy: 0.7856\n",
            "Epoch 37/100\n",
            "90/90 [==============================] - 2s 27ms/step - loss: 0.5310 - accuracy: 0.7733\n",
            "Epoch 38/100\n",
            "90/90 [==============================] - 2s 27ms/step - loss: 0.5621 - accuracy: 0.7755\n",
            "Epoch 39/100\n",
            "90/90 [==============================] - 2s 27ms/step - loss: 0.5629 - accuracy: 0.7643\n",
            "Epoch 40/100\n",
            "90/90 [==============================] - 2s 27ms/step - loss: 0.5488 - accuracy: 0.7733\n",
            "Epoch 41/100\n",
            "90/90 [==============================] - 2s 27ms/step - loss: 0.5213 - accuracy: 0.7699\n",
            "Epoch 42/100\n",
            "90/90 [==============================] - 2s 27ms/step - loss: 0.5677 - accuracy: 0.7699\n",
            "Epoch 43/100\n",
            "90/90 [==============================] - 2s 27ms/step - loss: 0.5546 - accuracy: 0.7609\n",
            "Epoch 44/100\n",
            "90/90 [==============================] - 2s 27ms/step - loss: 0.5356 - accuracy: 0.7666\n",
            "Epoch 45/100\n",
            "90/90 [==============================] - 2s 27ms/step - loss: 0.6786 - accuracy: 0.7733\n",
            "Epoch 46/100\n",
            "90/90 [==============================] - 2s 27ms/step - loss: 0.5493 - accuracy: 0.7856\n",
            "Epoch 47/100\n",
            "90/90 [==============================] - 2s 27ms/step - loss: 0.5242 - accuracy: 0.7834\n",
            "Epoch 48/100\n",
            "90/90 [==============================] - 2s 27ms/step - loss: 0.5519 - accuracy: 0.7632\n",
            "Epoch 49/100\n",
            "90/90 [==============================] - 2s 27ms/step - loss: 0.5338 - accuracy: 0.7733\n",
            "Epoch 50/100\n",
            "90/90 [==============================] - 2s 27ms/step - loss: 0.5186 - accuracy: 0.7755\n",
            "Epoch 51/100\n",
            "90/90 [==============================] - 2s 27ms/step - loss: 0.5613 - accuracy: 0.7811\n",
            "Epoch 52/100\n",
            "90/90 [==============================] - 2s 27ms/step - loss: 0.5166 - accuracy: 0.7767\n",
            "Epoch 53/100\n",
            "90/90 [==============================] - 2s 27ms/step - loss: 0.6224 - accuracy: 0.7800\n",
            "Epoch 54/100\n",
            "90/90 [==============================] - 2s 27ms/step - loss: 0.5179 - accuracy: 0.7778\n",
            "Epoch 55/100\n",
            "90/90 [==============================] - 2s 27ms/step - loss: 0.5270 - accuracy: 0.7643\n",
            "Epoch 56/100\n",
            "90/90 [==============================] - 2s 27ms/step - loss: 0.6515 - accuracy: 0.7834\n",
            "Epoch 57/100\n",
            "90/90 [==============================] - 2s 27ms/step - loss: 0.5304 - accuracy: 0.7811\n",
            "Epoch 58/100\n",
            "90/90 [==============================] - 2s 27ms/step - loss: 0.5507 - accuracy: 0.7957\n",
            "Epoch 59/100\n",
            "90/90 [==============================] - 2s 27ms/step - loss: 0.6590 - accuracy: 0.7789\n",
            "Epoch 60/100\n",
            "90/90 [==============================] - 2s 27ms/step - loss: 0.5749 - accuracy: 0.7789\n",
            "Epoch 61/100\n",
            "90/90 [==============================] - 2s 27ms/step - loss: 0.5445 - accuracy: 0.7553\n",
            "Epoch 62/100\n",
            "90/90 [==============================] - 2s 27ms/step - loss: 0.5444 - accuracy: 0.7677\n",
            "Epoch 63/100\n",
            "90/90 [==============================] - 2s 27ms/step - loss: 0.5604 - accuracy: 0.7834\n",
            "Epoch 64/100\n",
            "90/90 [==============================] - 2s 27ms/step - loss: 1.0634 - accuracy: 0.7789\n",
            "Epoch 65/100\n",
            "90/90 [==============================] - 2s 27ms/step - loss: 0.5430 - accuracy: 0.7542\n",
            "Epoch 66/100\n",
            "90/90 [==============================] - 2s 27ms/step - loss: 0.5819 - accuracy: 0.7789\n",
            "Epoch 67/100\n",
            "90/90 [==============================] - 2s 27ms/step - loss: 0.5050 - accuracy: 0.7733\n",
            "Epoch 68/100\n",
            "90/90 [==============================] - 2s 27ms/step - loss: 0.5736 - accuracy: 0.7834\n",
            "Epoch 69/100\n",
            "90/90 [==============================] - 2s 27ms/step - loss: 0.6421 - accuracy: 0.7654\n",
            "Epoch 70/100\n",
            "90/90 [==============================] - 2s 27ms/step - loss: 0.5440 - accuracy: 0.7767\n",
            "Epoch 71/100\n",
            "90/90 [==============================] - 2s 27ms/step - loss: 0.5921 - accuracy: 0.7868\n",
            "Epoch 72/100\n",
            "90/90 [==============================] - 2s 27ms/step - loss: 0.5323 - accuracy: 0.7744\n",
            "Epoch 73/100\n",
            "90/90 [==============================] - 2s 27ms/step - loss: 0.5908 - accuracy: 0.7733\n",
            "Epoch 74/100\n",
            "90/90 [==============================] - 2s 27ms/step - loss: 0.5405 - accuracy: 0.7856\n",
            "Epoch 75/100\n",
            "90/90 [==============================] - 2s 27ms/step - loss: 0.5409 - accuracy: 0.7845\n",
            "Epoch 76/100\n",
            "90/90 [==============================] - 2s 27ms/step - loss: 0.5656 - accuracy: 0.7789\n",
            "Epoch 77/100\n",
            "90/90 [==============================] - 2s 27ms/step - loss: 0.5406 - accuracy: 0.7800\n",
            "Epoch 78/100\n",
            "90/90 [==============================] - 2s 27ms/step - loss: 0.5110 - accuracy: 0.7767\n",
            "Epoch 79/100\n",
            "90/90 [==============================] - 2s 27ms/step - loss: 0.5168 - accuracy: 0.7778\n",
            "Epoch 80/100\n",
            "90/90 [==============================] - 2s 27ms/step - loss: 0.5906 - accuracy: 0.7688\n",
            "Epoch 81/100\n",
            "90/90 [==============================] - 2s 27ms/step - loss: 0.5243 - accuracy: 0.7789\n",
            "Epoch 82/100\n",
            "90/90 [==============================] - 2s 27ms/step - loss: 0.5569 - accuracy: 0.7632\n",
            "Epoch 83/100\n",
            "90/90 [==============================] - 2s 27ms/step - loss: 0.5273 - accuracy: 0.7744\n",
            "Epoch 84/100\n",
            "90/90 [==============================] - 2s 27ms/step - loss: 0.5545 - accuracy: 0.7643\n",
            "Epoch 85/100\n",
            "90/90 [==============================] - 2s 27ms/step - loss: 0.5674 - accuracy: 0.7811\n",
            "Epoch 86/100\n",
            "90/90 [==============================] - 2s 27ms/step - loss: 0.7030 - accuracy: 0.7688\n",
            "Epoch 87/100\n",
            "90/90 [==============================] - 2s 27ms/step - loss: 0.5190 - accuracy: 0.7800\n",
            "Epoch 88/100\n",
            "90/90 [==============================] - 2s 27ms/step - loss: 0.5370 - accuracy: 0.7609\n",
            "Epoch 89/100\n",
            "90/90 [==============================] - 2s 27ms/step - loss: 0.5439 - accuracy: 0.7767\n",
            "Epoch 90/100\n",
            "90/90 [==============================] - 2s 27ms/step - loss: 0.5241 - accuracy: 0.7733\n",
            "Epoch 91/100\n",
            "90/90 [==============================] - 2s 27ms/step - loss: 0.5410 - accuracy: 0.7834\n",
            "Epoch 92/100\n",
            "90/90 [==============================] - 3s 28ms/step - loss: 0.9278 - accuracy: 0.7722\n",
            "Epoch 93/100\n",
            "90/90 [==============================] - 3s 28ms/step - loss: 0.5296 - accuracy: 0.7643\n",
            "Epoch 94/100\n",
            "90/90 [==============================] - 2s 27ms/step - loss: 0.5099 - accuracy: 0.7767\n",
            "Epoch 95/100\n",
            "90/90 [==============================] - 2s 27ms/step - loss: 0.6173 - accuracy: 0.7677\n",
            "Epoch 96/100\n",
            "90/90 [==============================] - 2s 28ms/step - loss: 0.5020 - accuracy: 0.7991\n",
            "Epoch 97/100\n",
            "90/90 [==============================] - 2s 27ms/step - loss: 0.8118 - accuracy: 0.7710\n",
            "Epoch 98/100\n",
            "90/90 [==============================] - 2s 27ms/step - loss: 0.5803 - accuracy: 0.7767\n",
            "Epoch 99/100\n",
            "90/90 [==============================] - 2s 27ms/step - loss: 0.5480 - accuracy: 0.7654\n",
            "Epoch 100/100\n",
            "90/90 [==============================] - 2s 27ms/step - loss: 0.6796 - accuracy: 0.7598\n"
          ],
          "name": "stdout"
        }
      ]
    },
    {
      "cell_type": "code",
      "metadata": {
        "id": "orL3AZ6kyqtp",
        "colab_type": "code",
        "colab": {
          "base_uri": "https://localhost:8080/",
          "height": 282
        },
        "outputId": "283c163d-3d06-457c-b628-773635e04a34"
      },
      "source": [
        "plt.plot(history.history['accuracy'])"
      ],
      "execution_count": 14,
      "outputs": [
        {
          "output_type": "execute_result",
          "data": {
            "text/plain": [
              "[<matplotlib.lines.Line2D at 0x7f2a5bb119e8>]"
            ]
          },
          "metadata": {
            "tags": []
          },
          "execution_count": 14
        },
        {
          "output_type": "display_data",
          "data": {
            "image/png": "[encoded data removed]",
            "text/plain": [
              "<Figure size 432x288 with 1 Axes>"
            ]
          },
          "metadata": {
            "tags": [],
            "needs_background": "light"
          }
        }
      ]
    },
    {
      "cell_type": "code",
      "metadata": {
        "id": "15MHDJWW0GVw",
        "colab_type": "code",
        "colab": {}
      },
      "source": [
        "testID = test[\"PassengerId\"]"
      ],
      "execution_count": 15,
      "outputs": []
    },
    {
      "cell_type": "code",
      "metadata": {
        "id": "0ChToBVHzXBC",
        "colab_type": "code",
        "colab": {}
      },
      "source": [
        "predict = model.predict(test)\n",
        "predictions = [0 if el < 0.5 else 1 for el in predict]\n",
        "result = pd.DataFrame({'PassengerId': testID, 'Survived': predictions})\n",
        "result.to_csv('result.csv', index=False)"
      ],
      "execution_count": 16,
      "outputs": []
    },
    {
      "cell_type": "code",
      "metadata": {
        "id": "TNCJQKBd0n6F",
        "colab_type": "code",
        "colab": {}
      },
      "source": [
        "# Got a 0.70574 score on Kaggle"
      ],
      "execution_count": 17,
      "outputs": []
    }
  ]
}